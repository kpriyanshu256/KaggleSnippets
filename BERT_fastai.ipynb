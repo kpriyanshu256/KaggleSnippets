{
  "nbformat": 4,
  "nbformat_minor": 0,
  "metadata": {
    "kernelspec": {
      "name": "python3",
      "display_name": "Python 3"
    },
    "language_info": {
      "codemirror_mode": {
        "name": "ipython",
        "version": 3
      },
      "file_extension": ".py",
      "mimetype": "text/x-python",
      "name": "python",
      "nbconvert_exporter": "python",
      "pygments_lexer": "ipython3",
      "version": "3.6.8"
    },
    "colab": {
      "name": "BERT_fastai.ipynb",
      "provenance": []
    },
    "accelerator": "GPU"
  },
  "cells": [
    {
      "cell_type": "code",
      "metadata": {
        "id": "z6TuFfcvZyno",
        "colab_type": "code",
        "outputId": "fb2149da-9561-4039-b10c-013228f4f85f",
        "colab": {
          "base_uri": "https://localhost:8080/",
          "height": 124
        }
      },
      "source": [
        "from google.colab import drive\n",
        "drive.mount('/gdrive')"
      ],
      "execution_count": 0,
      "outputs": [
        {
          "output_type": "stream",
          "text": [
            "Go to this URL in a browser: https://accounts.google.com/o/oauth2/auth?client_id=947318989803-6bn6qk8qdgf4n4g3pfee6491hc0brc4i.apps.googleusercontent.com&redirect_uri=urn%3aietf%3awg%3aoauth%3a2.0%3aoob&response_type=code&scope=email%20https%3a%2f%2fwww.googleapis.com%2fauth%2fdocs.test%20https%3a%2f%2fwww.googleapis.com%2fauth%2fdrive%20https%3a%2f%2fwww.googleapis.com%2fauth%2fdrive.photos.readonly%20https%3a%2f%2fwww.googleapis.com%2fauth%2fpeopleapi.readonly\n",
            "\n",
            "Enter your authorization code:\n",
            "··········\n",
            "Mounted at /gdrive\n"
          ],
          "name": "stdout"
        }
      ]
    },
    {
      "cell_type": "code",
      "metadata": {
        "id": "LWFFLdrJZbNq",
        "colab_type": "code",
        "outputId": "631e58d3-492a-4e0d-8faa-a9ba268d56ac",
        "colab": {
          "base_uri": "https://localhost:8080/",
          "height": 104
        }
      },
      "source": [
        "! pip install transformers -q"
      ],
      "execution_count": 0,
      "outputs": [
        {
          "output_type": "stream",
          "text": [
            "\u001b[?25l\r\u001b[K     |▉                               | 10kB 30.1MB/s eta 0:00:01\r\u001b[K     |█▊                              | 20kB 5.7MB/s eta 0:00:01\r\u001b[K     |██▌                             | 30kB 8.1MB/s eta 0:00:01\r\u001b[K     |███▍                            | 40kB 5.2MB/s eta 0:00:01\r\u001b[K     |████▎                           | 51kB 6.4MB/s eta 0:00:01\r\u001b[K     |█████                           | 61kB 7.6MB/s eta 0:00:01\r\u001b[K     |██████                          | 71kB 8.6MB/s eta 0:00:01\r\u001b[K     |██████▊                         | 81kB 9.7MB/s eta 0:00:01\r\u001b[K     |███████▋                        | 92kB 10.7MB/s eta 0:00:01\r\u001b[K     |████████▌                       | 102kB 8.4MB/s eta 0:00:01\r\u001b[K     |█████████▎                      | 112kB 8.4MB/s eta 0:00:01\r\u001b[K     |██████████▏                     | 122kB 8.4MB/s eta 0:00:01\r\u001b[K     |███████████                     | 133kB 8.4MB/s eta 0:00:01\r\u001b[K     |███████████▉                    | 143kB 8.4MB/s eta 0:00:01\r\u001b[K     |████████████▊                   | 153kB 8.4MB/s eta 0:00:01\r\u001b[K     |█████████████▌                  | 163kB 8.4MB/s eta 0:00:01\r\u001b[K     |██████████████▍                 | 174kB 8.4MB/s eta 0:00:01\r\u001b[K     |███████████████▏                | 184kB 8.4MB/s eta 0:00:01\r\u001b[K     |████████████████                | 194kB 8.4MB/s eta 0:00:01\r\u001b[K     |█████████████████               | 204kB 8.4MB/s eta 0:00:01\r\u001b[K     |█████████████████▊              | 215kB 8.4MB/s eta 0:00:01\r\u001b[K     |██████████████████▋             | 225kB 8.4MB/s eta 0:00:01\r\u001b[K     |███████████████████▌            | 235kB 8.4MB/s eta 0:00:01\r\u001b[K     |████████████████████▎           | 245kB 8.4MB/s eta 0:00:01\r\u001b[K     |█████████████████████▏          | 256kB 8.4MB/s eta 0:00:01\r\u001b[K     |██████████████████████          | 266kB 8.4MB/s eta 0:00:01\r\u001b[K     |██████████████████████▉         | 276kB 8.4MB/s eta 0:00:01\r\u001b[K     |███████████████████████▊        | 286kB 8.4MB/s eta 0:00:01\r\u001b[K     |████████████████████████▌       | 296kB 8.4MB/s eta 0:00:01\r\u001b[K     |█████████████████████████▍      | 307kB 8.4MB/s eta 0:00:01\r\u001b[K     |██████████████████████████▏     | 317kB 8.4MB/s eta 0:00:01\r\u001b[K     |███████████████████████████     | 327kB 8.4MB/s eta 0:00:01\r\u001b[K     |████████████████████████████    | 337kB 8.4MB/s eta 0:00:01\r\u001b[K     |████████████████████████████▊   | 348kB 8.4MB/s eta 0:00:01\r\u001b[K     |█████████████████████████████▋  | 358kB 8.4MB/s eta 0:00:01\r\u001b[K     |██████████████████████████████▍ | 368kB 8.4MB/s eta 0:00:01\r\u001b[K     |███████████████████████████████▎| 378kB 8.4MB/s eta 0:00:01\r\u001b[K     |████████████████████████████████| 389kB 8.4MB/s \n",
            "\u001b[K     |████████████████████████████████| 696kB 55.0MB/s \n",
            "\u001b[K     |████████████████████████████████| 1.0MB 63.4MB/s \n",
            "\u001b[K     |████████████████████████████████| 860kB 60.6MB/s \n",
            "\u001b[?25h  Building wheel for sacremoses (setup.py) ... \u001b[?25l\u001b[?25hdone\n"
          ],
          "name": "stdout"
        }
      ]
    },
    {
      "cell_type": "code",
      "metadata": {
        "id": "9W8iuy5iZbN0",
        "colab_type": "code",
        "colab": {}
      },
      "source": [
        "import csv\n",
        "import pandas as pd\n",
        "from pathlib import Path\n",
        "import matplotlib.cm as cm\n",
        "from fastai import *\n",
        "from fastai.text import *\n",
        "from fastai.callbacks import *\n",
        "from fastai.metrics import *\n",
        "import numpy as np\n",
        "import pandas as pd\n",
        "\n",
        "from pathlib import Path\n",
        "from typing import *\n",
        "\n",
        "import torch\n",
        "import torch.optim as optim"
      ],
      "execution_count": 0,
      "outputs": []
    },
    {
      "cell_type": "code",
      "metadata": {
        "id": "bDcJAbWQmWmW",
        "colab_type": "code",
        "colab": {}
      },
      "source": [
        "seed = 42\n",
        "\n",
        "import random\n",
        "random.seed(seed)\n",
        "\n",
        "import torch\n",
        "torch.manual_seed(seed)\n",
        "torch.backends.cudnn.deterministic = True\n",
        "if torch.cuda.is_available(): torch.cuda.manual_seed_all(seed)\n",
        "\n",
        "import numpy as np\n",
        "np.random.seed(seed)"
      ],
      "execution_count": 0,
      "outputs": []
    },
    {
      "cell_type": "code",
      "metadata": {
        "id": "Pfkl3wOmaRkt",
        "colab_type": "code",
        "colab": {}
      },
      "source": [
        "import os\n",
        "os.chdir('/gdrive/My Drive/DEFT')"
      ],
      "execution_count": 0,
      "outputs": []
    },
    {
      "cell_type": "code",
      "metadata": {
        "id": "17X4qG7RZbN-",
        "colab_type": "code",
        "colab": {}
      },
      "source": [
        "class Config(dict):\n",
        "    def __init__(self, **kwargs):\n",
        "        super().__init__(**kwargs)\n",
        "        for k, v in kwargs.items():\n",
        "            setattr(self, k, v)\n",
        "    \n",
        "    def set(self, key, val):\n",
        "        self[key] = val\n",
        "        setattr(self, key, val)\n",
        "\n",
        "\n",
        "config = Config(\n",
        "    testing=False,\n",
        "    model_name=\"bert-base-uncased\",\n",
        "    max_lr=3e-5,\n",
        "    epochs=4,\n",
        "    use_fp16=True,\n",
        "    bs=64,\n",
        "    discriminative=False,\n",
        "    max_seq_len=64,\n",
        ")"
      ],
      "execution_count": 0,
      "outputs": []
    },
    {
      "cell_type": "code",
      "metadata": {
        "id": "8TBbnX8TZbOF",
        "colab_type": "code",
        "colab": {}
      },
      "source": [
        "%tensorflow_version 1.x\n",
        "from transformers import BertTokenizer\n",
        "tok = BertTokenizer.from_pretrained(config.model_name,)"
      ],
      "execution_count": 0,
      "outputs": []
    },
    {
      "cell_type": "code",
      "metadata": {
        "id": "6H6CsnEeZbOL",
        "colab_type": "code",
        "colab": {}
      },
      "source": [
        "class FastAiTokenizer(BaseTokenizer):\n",
        "    \"\"\"Wrapper around BertTokenizer to be compatible with fast.ai\"\"\"\n",
        "    def __init__(self, tokenizer: BertTokenizer, max_seq_len: int=128, **kwargs):\n",
        "        self._pretrained_tokenizer = tokenizer\n",
        "        self.max_seq_len = max_seq_len\n",
        "\n",
        "    def __call__(self, *args, **kwargs):\n",
        "        return self\n",
        "\n",
        "    def tokenizer(self, t:str) -> List[str]:\n",
        "        \"\"\"Limits the maximum sequence length\"\"\"\n",
        "        return [\"[CLS]\"] + self._pretrained_tokenizer.tokenize(t)[:self.max_seq_len - 2] + [\"[SEP]\"]\n"
      ],
      "execution_count": 0,
      "outputs": []
    },
    {
      "cell_type": "code",
      "metadata": {
        "id": "qUnzuTauZbOQ",
        "colab_type": "code",
        "colab": {}
      },
      "source": [
        "fastai_tokenizer = Tokenizer(tok_func=FastAiTokenizer(tok, max_seq_len=config.max_seq_len), pre_rules=[], post_rules=[])"
      ],
      "execution_count": 0,
      "outputs": []
    },
    {
      "cell_type": "code",
      "metadata": {
        "id": "WbNGhNSrZbOU",
        "colab_type": "code",
        "colab": {}
      },
      "source": [
        "fastai_vocab = Vocab(list(tok.vocab.keys()))"
      ],
      "execution_count": 0,
      "outputs": []
    },
    {
      "cell_type": "code",
      "metadata": {
        "id": "GeVLmC4pZs5_",
        "colab_type": "code",
        "colab": {}
      },
      "source": [
        "def multi_replace(chars_to_replace, char_to_place, from_string):\n",
        "    for char in chars_to_replace:\n",
        "        from_string = from_string.replace(char,char_to_place)\n",
        "    return from_string\n",
        "    \n",
        "def preprocessing(sentence):\n",
        "    lower_case = sentence.lower()\n",
        "    remove_punct = multi_replace(',“”’.-{}[]()=+_!@#$%^&*<>?/|\\\\~`:;\"','',lower_case)\n",
        "    return remove_punct"
      ],
      "execution_count": 0,
      "outputs": []
    },
    {
      "cell_type": "code",
      "metadata": {
        "id": "rf65NiFQZtsq",
        "colab_type": "code",
        "colab": {}
      },
      "source": [
        "def load_data(file):\n",
        "    df = pd.read_csv(file)\n",
        "    # removing initial numbers\n",
        "    df['Sentence'] = df['Sentence'].apply(lambda x : re.findall('^\\s*\\d*\\s*\\.?\\s*(.*)',x)[0])\n",
        "    # preprocessing\n",
        "    df['Preprocessed sentence'] = df['Sentence'].apply(preprocessing)\n",
        "    df.drop(['Sentence'],axis=1,inplace=True)\n",
        "    return df\n"
      ],
      "execution_count": 0,
      "outputs": []
    },
    {
      "cell_type": "code",
      "metadata": {
        "id": "TegWEXryZbOY",
        "colab_type": "code",
        "colab": {}
      },
      "source": [
        "train = load_data('train.csv')\n",
        "val = load_data('dev.csv')"
      ],
      "execution_count": 0,
      "outputs": []
    },
    {
      "cell_type": "code",
      "metadata": {
        "id": "SLBkrbyeZbOp",
        "colab_type": "code",
        "colab": {}
      },
      "source": [
        "label_cols = list(set(train['Label']))"
      ],
      "execution_count": 0,
      "outputs": []
    },
    {
      "cell_type": "code",
      "metadata": {
        "id": "c_Le382SZbO3",
        "colab_type": "code",
        "colab": {}
      },
      "source": [
        "class AutoTokenizeProcessor(TokenizeProcessor):\n",
        "    def __init__(self, tokenizer):\n",
        "        super().__init__(tokenizer=tokenizer, include_bos=False, include_eos=False)\n",
        "\n",
        "class AutoNumericalizeProcessor(NumericalizeProcessor):\n",
        "    def __init__(self, *args, **kwargs):\n",
        "        super().__init__(*args, vocab=Vocab(list(bert_tok.vocab.keys())), **kwargs)\n",
        "\n",
        "def get_auto_processor(tokenizer:Tokenizer=None, vocab:Vocab=None):\n",
        "    \"\"\"\n",
        "    Constructing preprocessors for BERT\n",
        "    We remove sos/eos tokens since we add that ourselves in the tokenizer.\n",
        "    We also use a custom vocabulary to match the numericalization with the original BERT model.\n",
        "    \"\"\"\n",
        "    return [AutoTokenizeProcessor(tokenizer=tokenizer),\n",
        "            NumericalizeProcessor(vocab=vocab)]"
      ],
      "execution_count": 0,
      "outputs": []
    },
    {
      "cell_type": "code",
      "metadata": {
        "id": "gCtPGe-rZbO7",
        "colab_type": "code",
        "colab": {}
      },
      "source": [
        "class AutoDataBunch(TextDataBunch):\n",
        "    @classmethod\n",
        "    def from_df(cls, path:PathOrStr, train_df:DataFrame, valid_df:DataFrame, test_df:Optional[DataFrame]=None,\n",
        "                tokenizer:Tokenizer=None, vocab:Vocab=None, classes:Collection[str]=None, text_cols:IntsOrStrs=1,\n",
        "                label_cols:IntsOrStrs=0, label_delim:str=None, **kwargs) -> DataBunch:\n",
        "        \"Create a `TextDataBunch` from DataFrames.\"\n",
        "        p_kwargs, kwargs = split_kwargs_by_func(kwargs, get_auto_processor)\n",
        "        # use our custom processors while taking tokenizer and vocab as kwargs\n",
        "        processor = get_auto_processor(tokenizer=tokenizer, vocab=vocab, **p_kwargs)\n",
        "        if classes is None and is_listy(label_cols) and len(label_cols) > 1: \n",
        "          classes = label_cols\n",
        "        src = ItemLists(path, TextList.from_df(train_df, path, cols=text_cols, processor=processor), TextList.from_df(valid_df, path, cols=text_cols, processor=processor))\n",
        "\n",
        "        src = src.label_for_lm() if cls==TextLMDataBunch else src.label_from_df(cols=label_cols, classes=classes)\n",
        "\n",
        "        if test_df is not None: \n",
        "          src.add_test(TextList.from_df(test_df, path, cols=text_cols))\n",
        "        return src.databunch(**kwargs)"
      ],
      "execution_count": 0,
      "outputs": []
    },
    {
      "cell_type": "code",
      "metadata": {
        "id": "Ib4nSNu-ZbO0",
        "colab_type": "code",
        "colab": {}
      },
      "source": [
        "from sklearn.model_selection import train_test_split\n",
        "X_train, X_val = train_test_split(train,test_size = 0.3)"
      ],
      "execution_count": 0,
      "outputs": []
    },
    {
      "cell_type": "code",
      "metadata": {
        "id": "9G_vYAPiZbPA",
        "colab_type": "code",
        "outputId": "8835fb25-e962-4e23-8f3f-cb4723286c46",
        "colab": {
          "base_uri": "https://localhost:8080/",
          "height": 17
        }
      },
      "source": [
        "databunch = AutoDataBunch.from_df(\".\", X_train, X_val, val,\n",
        "                  tokenizer=fastai_tokenizer,\n",
        "                  vocab=fastai_vocab,\n",
        "                  text_cols=\"Preprocessed sentence\",\n",
        "                  label_cols='Label',\n",
        "                  bs=config.bs,\n",
        "                  collate_fn=partial(pad_collate, pad_first=False, pad_idx=0),\n",
        "             )\n"
      ],
      "execution_count": 0,
      "outputs": [
        {
          "output_type": "display_data",
          "data": {
            "text/html": [
              ""
            ],
            "text/plain": [
              "<IPython.core.display.HTML object>"
            ]
          },
          "metadata": {
            "tags": []
          }
        },
        {
          "output_type": "display_data",
          "data": {
            "text/html": [
              ""
            ],
            "text/plain": [
              "<IPython.core.display.HTML object>"
            ]
          },
          "metadata": {
            "tags": []
          }
        },
        {
          "output_type": "display_data",
          "data": {
            "text/html": [
              ""
            ],
            "text/plain": [
              "<IPython.core.display.HTML object>"
            ]
          },
          "metadata": {
            "tags": []
          }
        }
      ]
    },
    {
      "cell_type": "code",
      "metadata": {
        "id": "3ktiH4R5aO1Z",
        "colab_type": "code",
        "colab": {}
      },
      "source": [
        "import torch\n",
        "def softmax(v):\n",
        "  e = torch.exp(v)\n",
        "  s = torch.sum(e, dim=0)\n",
        "  return e/s"
      ],
      "execution_count": 0,
      "outputs": []
    },
    {
      "cell_type": "code",
      "metadata": {
        "id": "clagBsqyY4qX",
        "colab_type": "code",
        "colab": {}
      },
      "source": [
        "from transformers import BertPreTrainedModel, BertModel\n",
        "class BertForSequenceClassification(BertPreTrainedModel):\n",
        "    r\"\"\"\n",
        "        **labels**: (`optional`) ``torch.LongTensor`` of shape ``(batch_size,)``:\n",
        "            Labels for computing the sequence classification/regression loss.\n",
        "            Indices should be in ``[0, ..., config.num_labels - 1]``.\n",
        "            If ``config.num_labels == 1`` a regression loss is computed (Mean-Square loss),\n",
        "            If ``config.num_labels > 1`` a classification loss is computed (Cross-Entropy).\n",
        "\n",
        "    Outputs: `Tuple` comprising various elements depending on the configuration (config) and inputs:\n",
        "        **loss**: (`optional`, returned when ``labels`` is provided) ``torch.FloatTensor`` of shape ``(1,)``:\n",
        "            Classification (or regression if config.num_labels==1) loss.\n",
        "        **logits**: ``torch.FloatTensor`` of shape ``(batch_size, config.num_labels)``\n",
        "            Classification (or regression if config.num_labels==1) scores (before SoftMax).\n",
        "        **hidden_states**: (`optional`, returned when ``config.output_hidden_states=True``)\n",
        "            list of ``torch.FloatTensor`` (one for the output of each layer + the output of the embeddings)\n",
        "            of shape ``(batch_size, sequence_length, hidden_size)``:\n",
        "            Hidden-states of the model at the output of each layer plus the initial embedding outputs.\n",
        "        **attentions**: (`optional`, returned when ``config.output_attentions=True``)\n",
        "            list of ``torch.FloatTensor`` (one for each layer) of shape ``(batch_size, num_heads, sequence_length, sequence_length)``:\n",
        "            Attentions weights after the attention softmax, used to compute the weighted average in the self-attention heads.\n",
        "\n",
        "    Examples::\n",
        "\n",
        "        tokenizer = BertTokenizer.from_pretrained('bert-base-uncased')\n",
        "        model = BertForSequenceClassification.from_pretrained('bert-base-uncased')\n",
        "        input_ids = torch.tensor(tokenizer.encode(\"Hello, my dog is cute\", add_special_tokens=True)).unsqueeze(0)  # Batch size 1\n",
        "        labels = torch.tensor([1]).unsqueeze(0)  # Batch size 1\n",
        "        outputs = model(input_ids, labels=labels)\n",
        "        loss, logits = outputs[:2]\n",
        "\n",
        "    \"\"\"\n",
        "    def __init__(self, config):\n",
        "        super(BertForSequenceClassification, self).__init__(config)\n",
        "        self.num_labels = config.num_labels\n",
        "\n",
        "        self.bert = BertModel(config)\n",
        "        self.dropout = nn.Dropout(config.hidden_dropout_prob)\n",
        "        self.classifier = nn.Linear(config.hidden_size, self.config.num_labels)\n",
        "\n",
        "        self.init_weights()\n",
        "\n",
        "    def forward(self, input_ids=None, attention_mask=None, token_type_ids=None,\n",
        "                position_ids=None, head_mask=None, inputs_embeds=None, labels=None):\n",
        "\n",
        "        outputs = self.bert(input_ids,\n",
        "                            attention_mask=attention_mask,\n",
        "                            token_type_ids=token_type_ids,\n",
        "                            position_ids=position_ids,\n",
        "                            head_mask=head_mask,\n",
        "                            inputs_embeds=inputs_embeds)\n",
        "\n",
        "        pooled_output = outputs[1]\n",
        "\n",
        "        pooled_output = self.dropout(pooled_output)\n",
        "        logits = self.classifier(pooled_output)\n",
        "\n",
        "        outputs = (logits,) + outputs[2:]  # add hidden states and attention if they are here\n",
        "\n",
        "        if labels is not None:\n",
        "            if self.num_labels == 1:\n",
        "                #  We are doing regression\n",
        "                loss_fct = MSELoss()\n",
        "                loss = loss_fct(logits.view(-1), labels.view(-1))\n",
        "            else:\n",
        "                loss_fct = CrossEntropyLoss()\n",
        "                loss = loss_fct(logits.view(-1, self.num_labels), labels.view(-1))\n",
        "            outputs = (loss,) + outputs\n",
        "\n",
        "        return softmax(outputs[0])  # (loss), logits, (hidden_states), (attentions)"
      ],
      "execution_count": 0,
      "outputs": []
    },
    {
      "cell_type": "code",
      "metadata": {
        "id": "ISQ4dFvoZbPD",
        "colab_type": "code",
        "colab": {}
      },
      "source": [
        "auto_model = BertForSequenceClassification.from_pretrained(config.model_name, num_labels=len(set(train['Label'])))"
      ],
      "execution_count": 0,
      "outputs": []
    },
    {
      "cell_type": "code",
      "metadata": {
        "id": "f1gKmMQzZbPI",
        "colab_type": "code",
        "colab": {}
      },
      "source": [
        "learner = Learner(\n",
        "    databunch, auto_model,\n",
        "    metrics=[accuracy,error_rate]\n",
        ")\n",
        "learner.callbacks.append(ShowGraph(learner))"
      ],
      "execution_count": 0,
      "outputs": []
    },
    {
      "cell_type": "code",
      "metadata": {
        "id": "sbB2BbU7ZbPL",
        "colab_type": "code",
        "outputId": "93573320-5d8e-4b24-d29f-69f4145bb7f4",
        "colab": {
          "base_uri": "https://localhost:8080/",
          "height": 335
        }
      },
      "source": [
        "learner.lr_find()\n",
        "learner.recorder.plot(suggestion=True)"
      ],
      "execution_count": 0,
      "outputs": [
        {
          "output_type": "display_data",
          "data": {
            "text/html": [
              ""
            ],
            "text/plain": [
              "<IPython.core.display.HTML object>"
            ]
          },
          "metadata": {
            "tags": []
          }
        },
        {
          "output_type": "stream",
          "text": [
            "LR Finder is complete, type {learner_name}.recorder.plot() to see the graph.\n",
            "Min numerical gradient: 1.91E-04\n",
            "Min loss divided by 10: 8.32E-05\n"
          ],
          "name": "stdout"
        },
        {
          "output_type": "display_data",
          "data": {
            "image/png": "[encoded data removed]",
            "text/plain": [
              "<Figure size 432x288 with 1 Axes>"
            ]
          },
          "metadata": {
            "tags": []
          }
        }
      ]
    },
    {
      "cell_type": "code",
      "metadata": {
        "id": "BB4_UT-oZbPR",
        "colab_type": "code",
        "outputId": "a3718e80-6103-4cdb-de2b-330a4becaacb",
        "colab": {
          "base_uri": "https://localhost:8080/",
          "height": 360
        }
      },
      "source": [
        "learner.fit_one_cycle(2, slice(1e-4))"
      ],
      "execution_count": 0,
      "outputs": [
        {
          "output_type": "display_data",
          "data": {
            "text/html": [
              "<table border=\"1\" class=\"dataframe\">\n",
              "  <thead>\n",
              "    <tr style=\"text-align: left;\">\n",
              "      <th>epoch</th>\n",
              "      <th>train_loss</th>\n",
              "      <th>valid_loss</th>\n",
              "      <th>accuracy</th>\n",
              "      <th>error_rate</th>\n",
              "      <th>time</th>\n",
              "    </tr>\n",
              "  </thead>\n",
              "  <tbody>\n",
              "    <tr>\n",
              "      <td>0</td>\n",
              "      <td>0.682444</td>\n",
              "      <td>0.681462</td>\n",
              "      <td>0.735294</td>\n",
              "      <td>0.264706</td>\n",
              "      <td>00:48</td>\n",
              "    </tr>\n",
              "    <tr>\n",
              "      <td>1</td>\n",
              "      <td>0.679537</td>\n",
              "      <td>0.679896</td>\n",
              "      <td>0.788916</td>\n",
              "      <td>0.211084</td>\n",
              "      <td>00:47</td>\n",
              "    </tr>\n",
              "  </tbody>\n",
              "</table>"
            ],
            "text/plain": [
              "<IPython.core.display.HTML object>"
            ]
          },
          "metadata": {
            "tags": []
          }
        },
        {
          "output_type": "display_data",
          "data": {
            "image/png": "[encoded data removed]",
            "text/plain": [
              "<Figure size 432x288 with 1 Axes>"
            ]
          },
          "metadata": {
            "tags": []
          }
        }
      ]
    },
    {
      "cell_type": "code",
      "metadata": {
        "id": "YUzdLQQtktsz",
        "colab_type": "code",
        "colab": {}
      },
      "source": [
        "learner.save('bert_84_overfitted')"
      ],
      "execution_count": 0,
      "outputs": []
    },
    {
      "cell_type": "code",
      "metadata": {
        "id": "GHgpUNscdefn",
        "colab_type": "code",
        "outputId": "35f8e259-798d-4559-d621-20f6d6514560",
        "colab": {
          "base_uri": "https://localhost:8080/",
          "height": 331
        }
      },
      "source": [
        "learner.unfreeze()\n",
        "learner.lr_find()\n",
        "learner.recorder.plot(suggestion=True)"
      ],
      "execution_count": 0,
      "outputs": [
        {
          "output_type": "display_data",
          "data": {
            "text/html": [
              ""
            ],
            "text/plain": [
              "<IPython.core.display.HTML object>"
            ]
          },
          "metadata": {
            "tags": []
          }
        },
        {
          "output_type": "stream",
          "text": [
            "LR Finder is complete, type {learner_name}.recorder.plot() to see the graph.\n",
            "Min numerical gradient: 1.10E-04\n",
            "Min loss divided by 10: 1.58E-07\n"
          ],
          "name": "stdout"
        },
        {
          "output_type": "display_data",
          "data": {
            "image/png": "[encoded data removed]",
            "text/plain": [
              "<Figure size 432x288 with 1 Axes>"
            ]
          },
          "metadata": {
            "tags": []
          }
        }
      ]
    },
    {
      "cell_type": "code",
      "metadata": {
        "id": "jODwUsg5eE0G",
        "colab_type": "code",
        "outputId": "53f408b3-8984-4726-d065-380246b400a3",
        "colab": {
          "base_uri": "https://localhost:8080/",
          "height": 360
        }
      },
      "source": [
        "learner.fit_one_cycle(2, slice(1e-4))"
      ],
      "execution_count": 0,
      "outputs": [
        {
          "output_type": "display_data",
          "data": {
            "text/html": [
              "<table border=\"1\" class=\"dataframe\">\n",
              "  <thead>\n",
              "    <tr style=\"text-align: left;\">\n",
              "      <th>epoch</th>\n",
              "      <th>train_loss</th>\n",
              "      <th>valid_loss</th>\n",
              "      <th>accuracy</th>\n",
              "      <th>error_rate</th>\n",
              "      <th>time</th>\n",
              "    </tr>\n",
              "  </thead>\n",
              "  <tbody>\n",
              "    <tr>\n",
              "      <td>0</td>\n",
              "      <td>0.679781</td>\n",
              "      <td>0.680889</td>\n",
              "      <td>0.784714</td>\n",
              "      <td>0.215286</td>\n",
              "      <td>00:50</td>\n",
              "    </tr>\n",
              "    <tr>\n",
              "      <td>1</td>\n",
              "      <td>0.678661</td>\n",
              "      <td>0.680234</td>\n",
              "      <td>0.775310</td>\n",
              "      <td>0.224690</td>\n",
              "      <td>00:45</td>\n",
              "    </tr>\n",
              "  </tbody>\n",
              "</table>"
            ],
            "text/plain": [
              "<IPython.core.display.HTML object>"
            ]
          },
          "metadata": {
            "tags": []
          }
        },
        {
          "output_type": "display_data",
          "data": {
            "image/png": "[encoded data removed]",
            "text/plain": [
              "<Figure size 432x288 with 1 Axes>"
            ]
          },
          "metadata": {
            "tags": []
          }
        }
      ]
    },
    {
      "cell_type": "code",
      "metadata": {
        "id": "sodVaTITgoji",
        "colab_type": "code",
        "outputId": "7509f509-744a-4d0e-8583-a31ee15c5a77",
        "colab": {
          "base_uri": "https://localhost:8080/",
          "height": 458
        }
      },
      "source": [
        "learner.fit_one_cycle(5, slice(5e-8))"
      ],
      "execution_count": 0,
      "outputs": [
        {
          "output_type": "display_data",
          "data": {
            "text/html": [
              "<table border=\"1\" class=\"dataframe\">\n",
              "  <thead>\n",
              "    <tr style=\"text-align: left;\">\n",
              "      <th>epoch</th>\n",
              "      <th>train_loss</th>\n",
              "      <th>valid_loss</th>\n",
              "      <th>accuracy</th>\n",
              "      <th>error_rate</th>\n",
              "      <th>time</th>\n",
              "    </tr>\n",
              "  </thead>\n",
              "  <tbody>\n",
              "    <tr>\n",
              "      <td>0</td>\n",
              "      <td>0.437795</td>\n",
              "      <td>0.461104</td>\n",
              "      <td>0.794841</td>\n",
              "      <td>0.205159</td>\n",
              "      <td>01:51</td>\n",
              "    </tr>\n",
              "    <tr>\n",
              "      <td>1</td>\n",
              "      <td>0.436195</td>\n",
              "      <td>0.449227</td>\n",
              "      <td>0.800096</td>\n",
              "      <td>0.199904</td>\n",
              "      <td>01:43</td>\n",
              "    </tr>\n",
              "    <tr>\n",
              "      <td>2</td>\n",
              "      <td>0.405618</td>\n",
              "      <td>0.439673</td>\n",
              "      <td>0.803200</td>\n",
              "      <td>0.196800</td>\n",
              "      <td>01:51</td>\n",
              "    </tr>\n",
              "    <tr>\n",
              "      <td>3</td>\n",
              "      <td>0.404058</td>\n",
              "      <td>0.436979</td>\n",
              "      <td>0.806066</td>\n",
              "      <td>0.193934</td>\n",
              "      <td>01:39</td>\n",
              "    </tr>\n",
              "    <tr>\n",
              "      <td>4</td>\n",
              "      <td>0.412446</td>\n",
              "      <td>0.436289</td>\n",
              "      <td>0.806305</td>\n",
              "      <td>0.193695</td>\n",
              "      <td>01:49</td>\n",
              "    </tr>\n",
              "  </tbody>\n",
              "</table>"
            ],
            "text/plain": [
              "<IPython.core.display.HTML object>"
            ]
          },
          "metadata": {
            "tags": []
          }
        },
        {
          "output_type": "display_data",
          "data": {
            "image/png": "[encoded data removed]",
            "text/plain": [
              "<Figure size 432x288 with 1 Axes>"
            ]
          },
          "metadata": {
            "tags": []
          }
        }
      ]
    },
    {
      "cell_type": "code",
      "metadata": {
        "id": "T6VtunhLMtSO",
        "colab_type": "code",
        "colab": {}
      },
      "source": [
        "# learner.load('model')"
      ],
      "execution_count": 0,
      "outputs": []
    },
    {
      "cell_type": "code",
      "metadata": {
        "id": "m9GIUD4XZbPV",
        "colab_type": "code",
        "colab": {}
      },
      "source": [
        "def get_preds_as_nparray(ds_type) -> np.ndarray:\n",
        "    \"\"\"\n",
        "    the get_preds method does not yield the elements in order by default\n",
        "    we borrow the code from the RNNLearner to resort the elements into their correct order\n",
        "    \"\"\"\n",
        "    preds = learner.get_preds(ds_type)[0].detach().cpu().numpy()\n",
        "    sampler = [i for i in databunch.dl(ds_type).sampler]\n",
        "    reverse_sampler = np.argsort(sampler)\n",
        "    return preds[reverse_sampler, :]"
      ],
      "execution_count": 0,
      "outputs": []
    },
    {
      "cell_type": "code",
      "metadata": {
        "id": "hF_3siguZbPZ",
        "colab_type": "code",
        "colab": {}
      },
      "source": [
        "test_preds = get_preds_as_nparray(DatasetType.Test)\n",
        "preds = []"
      ],
      "execution_count": 0,
      "outputs": []
    },
    {
      "cell_type": "code",
      "metadata": {
        "id": "58bN129IZbPh",
        "colab_type": "code",
        "colab": {}
      },
      "source": [
        "for i in test_preds:\n",
        "    preds.append(np.argmax(i))"
      ],
      "execution_count": 0,
      "outputs": []
    },
    {
      "cell_type": "code",
      "metadata": {
        "id": "QuHDNVFijRVS",
        "colab_type": "code",
        "colab": {}
      },
      "source": [
        "from sklearn.metrics import classification_report, f1_score , recall_score, precision_score"
      ],
      "execution_count": 0,
      "outputs": []
    },
    {
      "cell_type": "code",
      "metadata": {
        "id": "M_Xx8CXoZbP7",
        "colab_type": "code",
        "outputId": "4d212337-3b4a-4c7e-f0d3-110d7c118682",
        "colab": {
          "base_uri": "https://localhost:8080/",
          "height": 173
        }
      },
      "source": [
        "print(classification_report(val['Label'], preds))"
      ],
      "execution_count": 0,
      "outputs": [
        {
          "output_type": "stream",
          "text": [
            "              precision    recall  f1-score   support\n",
            "\n",
            "           0       0.87      0.90      0.89       551\n",
            "           1       0.79      0.74      0.77       277\n",
            "\n",
            "    accuracy                           0.85       828\n",
            "   macro avg       0.83      0.82      0.83       828\n",
            "weighted avg       0.85      0.85      0.85       828\n",
            "\n"
          ],
          "name": "stdout"
        }
      ]
    },
    {
      "cell_type": "code",
      "metadata": {
        "id": "eORp2zLLjCxw",
        "colab_type": "code",
        "outputId": "fedbd2c9-e9cf-4531-a476-1dcfec2f2e57",
        "colab": {
          "base_uri": "https://localhost:8080/",
          "height": 34
        }
      },
      "source": [
        "f1_score(val['Label'], preds), recall_score(val['Label'], preds), precision_score(val['Label'], preds)"
      ],
      "execution_count": 0,
      "outputs": [
        {
          "output_type": "execute_result",
          "data": {
            "text/plain": [
              "(0.7657992565055762, 0.7436823104693141, 0.789272030651341)"
            ]
          },
          "metadata": {
            "tags": []
          },
          "execution_count": 56
        }
      ]
    },
    {
      "cell_type": "code",
      "metadata": {
        "id": "5HT6aYn7jaAf",
        "colab_type": "code",
        "outputId": "bf1c9941-6c95-440d-f5b1-2ed6dece4d6b",
        "colab": {
          "base_uri": "https://localhost:8080/",
          "height": 34
        }
      },
      "source": [
        "learner.save('bert_2',return_path=True)"
      ],
      "execution_count": 0,
      "outputs": [
        {
          "output_type": "execute_result",
          "data": {
            "text/plain": [
              "PosixPath('models/bert_2.pth')"
            ]
          },
          "metadata": {
            "tags": []
          },
          "execution_count": 57
        }
      ]
    },
    {
      "cell_type": "code",
      "metadata": {
        "id": "fm062izrlH71",
        "colab_type": "code",
        "colab": {}
      },
      "source": [
        ""
      ],
      "execution_count": 0,
      "outputs": []
    }
  ]
}